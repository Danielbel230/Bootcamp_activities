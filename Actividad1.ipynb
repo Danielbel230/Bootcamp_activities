{
 "cells": [
  {
   "cell_type": "code",
   "execution_count": 1,
   "id": "99d7e0d3",
   "metadata": {},
   "outputs": [],
   "source": [
    "import numpy as np"
   ]
  },
  {
   "cell_type": "code",
   "execution_count": 4,
   "id": "435d94cb",
   "metadata": {},
   "outputs": [
    {
     "name": "stdout",
     "output_type": "stream",
     "text": [
      "[[43 86 54]\n",
      " [58 37 71]\n",
      " [66 29  1]\n",
      " [28 94 47]\n",
      " [76  6 17]]\n"
     ]
    }
   ],
   "source": [
    "arreglo_int = np.random.randint(1, 100, (5,3))\n",
    "\n",
    "print(arreglo_int)"
   ]
  },
  {
   "cell_type": "code",
   "execution_count": 6,
   "id": "a65a70d5",
   "metadata": {},
   "outputs": [
    {
     "name": "stdout",
     "output_type": "stream",
     "text": [
      "713\n"
     ]
    }
   ],
   "source": [
    "suma_total = np.sum(arreglo_int)\n",
    "print(suma_total)"
   ]
  },
  {
   "cell_type": "code",
   "execution_count": 8,
   "id": "1c37f714",
   "metadata": {},
   "outputs": [
    {
     "name": "stdout",
     "output_type": "stream",
     "text": [
      "[54.2 50.4 38. ]\n"
     ]
    }
   ],
   "source": [
    "prom_columnas = np.mean(arreglo_int, axis=0)\n",
    "print(prom_columnas)"
   ]
  },
  {
   "cell_type": "code",
   "execution_count": 9,
   "id": "3e6bb718",
   "metadata": {},
   "outputs": [
    {
     "name": "stdout",
     "output_type": "stream",
     "text": [
      "[[8 9 2 7 9 0 2 5 6 0]\n",
      " [9 0 7 2 5 1 3 4 2 5]\n",
      " [2 6 9 7 9 6 5 0 3 1]\n",
      " [8 5 9 8 2 8 4 0 5 5]\n",
      " [3 6 6 3 3 9 2 3 1 2]\n",
      " [0 3 8 0 3 4 2 0 5 6]\n",
      " [8 3 7 8 4 0 0 6 6 7]\n",
      " [0 3 2 1 7 1 1 7 9 9]\n",
      " [0 1 2 1 9 5 9 6 7 7]\n",
      " [8 6 9 5 4 9 5 6 9 5]]\n"
     ]
    }
   ],
   "source": [
    "matriz = np.random.randint(0,10,(10,10))\n",
    "print(matriz)"
   ]
  },
  {
   "cell_type": "code",
   "execution_count": null,
   "id": "59f3e8f7",
   "metadata": {},
   "outputs": [
    {
     "name": "stdout",
     "output_type": "stream",
     "text": [
      "[[ 8  9 -1  7  9 -1 -1  5  6 -1]\n",
      " [ 9 -1  7 -1  5 -1 -1 -1 -1  5]\n",
      " [-1  6  9  7  9  6  5 -1 -1 -1]\n",
      " [ 8  5  9  8 -1  8 -1 -1  5  5]\n",
      " [-1  6  6 -1 -1  9 -1 -1 -1 -1]\n",
      " [-1 -1  8 -1 -1 -1 -1 -1  5  6]\n",
      " [ 8 -1  7  8 -1 -1 -1  6  6  7]\n",
      " [-1 -1 -1 -1  7 -1 -1  7  9  9]\n",
      " [-1 -1 -1 -1  9  5  9  6  7  7]\n",
      " [ 8  6  9  5 -1  9  5  6  9  5]]\n",
      "True\n"
     ]
    }
   ],
   "source": [
    "matriz[matriz < 5] = -1\n",
    "print(matriz)\n",
    "\n"
   ]
  },
  {
   "cell_type": "code",
   "execution_count": null,
   "id": "43a525e2",
   "metadata": {},
   "outputs": [
    {
     "name": "stdout",
     "output_type": "stream",
     "text": [
      "Imagen cargada correctamente.\n",
      "Shape: (768, 1024, 3)\n",
      "Mínimo por canal: [27 29 29]\n",
      "Máximo por canal: [255 255 255]\n",
      "Promedio por canal: [203.67577616 236.65513357 240.80700811]\n"
     ]
    }
   ],
   "source": [
    "import cv2\n",
    "\n",
    "\n",
    "# Leer la imagen\n",
    "imagen = cv2.imread(\"logo2.png\")\n",
    "\n",
    "# Verificar si la imagen se cargó correctamente\n",
    "if imagen is None:\n",
    "    print(\"Error: No se pudo cargar la imagen. Verifica la ruta.\")\n",
    "else:\n",
    "    print(\"Imagen cargada correctamente.\")\n",
    "\n",
    "    # Mostrar shape, mínimo, máximo y promedio de cada canal\n",
    "    print(\"Shape:\", imagen.shape)\n",
    "    print(\"Mínimo por canal:\", imagen.min(axis=(0, 1)))\n",
    "    print(\"Máximo por canal:\", imagen.max(axis=(0, 1)))\n",
    "    print(\"Promedio por canal:\", imagen.mean(axis=(0, 1)))\n",
    "\n",
    "    # Mostrar la imagen en una ventana\n",
    "    cv2.imshow(\"Imagen\", imagen)\n",
    "    cv2.waitKey(0)\n",
    "    cv2.destroyAllWindows()\n"
   ]
  },
  {
   "cell_type": "code",
   "execution_count": null,
   "id": "456730ee",
   "metadata": {},
   "outputs": [],
   "source": []
  }
 ],
 "metadata": {
  "kernelspec": {
   "display_name": "Python 3",
   "language": "python",
   "name": "python3"
  },
  "language_info": {
   "codemirror_mode": {
    "name": "ipython",
    "version": 3
   },
   "file_extension": ".py",
   "mimetype": "text/x-python",
   "name": "python",
   "nbconvert_exporter": "python",
   "pygments_lexer": "ipython3",
   "version": "3.12.10"
  }
 },
 "nbformat": 4,
 "nbformat_minor": 5
}
