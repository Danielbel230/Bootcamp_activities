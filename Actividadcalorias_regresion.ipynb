{
 "cells": [
  {
   "cell_type": "code",
   "execution_count": 17,
   "id": "24448bf3",
   "metadata": {},
   "outputs": [],
   "source": [
    "import numpy as np\n",
    "import pandas as pd\n",
    "import matplotlib.pyplot as plt\n",
    "\n",
    "from sklearn.model_selection import train_test_split   # 👈 ESTA ES LA QUE FALTABA\n",
    "from sklearn.preprocessing import StandardScaler\n",
    "from sklearn.pipeline import make_pipeline\n",
    "from sklearn.impute import SimpleImputer\n",
    "\n",
    "from sklearn.linear_model import LinearRegression\n",
    "from sklearn.ensemble import RandomForestRegressor, GradientBoostingRegressor\n",
    "\n",
    "from sklearn.metrics import mean_absolute_error, mean_squared_error, r2_score\n"
   ]
  },
  {
   "cell_type": "code",
   "execution_count": 18,
   "id": "bad10455",
   "metadata": {},
   "outputs": [
    {
     "name": "stdout",
     "output_type": "stream",
     "text": [
      "Train shape: (750000, 9)\n",
      "Test shape : (250000, 8)\n",
      "\n",
      "Columnas disponibles: Index(['id', 'Sex', 'Age', 'Height', 'Weight', 'Duration', 'Heart_Rate',\n",
      "       'Body_Temp', 'Calories'],\n",
      "      dtype='object')\n",
      "Columnas en train: Index(['id', 'Sex', 'Age', 'Height', 'Weight', 'Duration', 'Heart_Rate',\n",
      "       'Body_Temp', 'Calories'],\n",
      "      dtype='object')\n",
      "Columnas en test : Index(['id', 'Sex', 'Age', 'Height', 'Weight', 'Duration', 'Heart_Rate',\n",
      "       'Body_Temp'],\n",
      "      dtype='object')\n"
     ]
    }
   ],
   "source": [
    "#Cargar datos (train y test)\n",
    "\n",
    "train_df = pd.read_csv(\"train.csv\")\n",
    "test_df  = pd.read_csv(\"test.csv\")\n",
    "\n",
    "print(\"Train shape:\", train_df.shape)\n",
    "print(\"Test shape :\", test_df.shape)\n",
    "print(\"\\nColumnas disponibles:\", train_df.columns)\n",
    "\n",
    "print(\"Columnas en train:\", train_df.columns)\n",
    "print(\"Columnas en test :\", test_df.columns)\n"
   ]
  },
  {
   "cell_type": "code",
   "execution_count": 19,
   "id": "dd63563b",
   "metadata": {},
   "outputs": [
    {
     "name": "stdout",
     "output_type": "stream",
     "text": [
      "\n",
      "--- INFO TRAIN ---\n",
      "<class 'pandas.core.frame.DataFrame'>\n",
      "RangeIndex: 750000 entries, 0 to 749999\n",
      "Data columns (total 9 columns):\n",
      " #   Column      Non-Null Count   Dtype  \n",
      "---  ------      --------------   -----  \n",
      " 0   id          750000 non-null  int64  \n",
      " 1   Sex         750000 non-null  object \n",
      " 2   Age         750000 non-null  int64  \n",
      " 3   Height      750000 non-null  float64\n",
      " 4   Weight      750000 non-null  float64\n",
      " 5   Duration    750000 non-null  float64\n",
      " 6   Heart_Rate  750000 non-null  float64\n",
      " 7   Body_Temp   750000 non-null  float64\n",
      " 8   Calories    750000 non-null  float64\n",
      "dtypes: float64(6), int64(2), object(1)\n",
      "memory usage: 51.5+ MB\n",
      "None\n",
      "\n",
      "Valores faltantes:\n",
      " id            0\n",
      "Sex           0\n",
      "Age           0\n",
      "Height        0\n",
      "Weight        0\n",
      "Duration      0\n",
      "Heart_Rate    0\n",
      "Body_Temp     0\n",
      "Calories      0\n",
      "dtype: int64\n",
      "\n",
      "Estadísticas:\n",
      "                   id            Age         Height         Weight  \\\n",
      "count  750000.000000  750000.000000  750000.000000  750000.000000   \n",
      "mean   374999.500000      41.420404     174.697685      75.145668   \n",
      "std    216506.495284      15.175049      12.824496      13.982704   \n",
      "min         0.000000      20.000000     126.000000      36.000000   \n",
      "25%    187499.750000      28.000000     164.000000      63.000000   \n",
      "50%    374999.500000      40.000000     174.000000      74.000000   \n",
      "75%    562499.250000      52.000000     185.000000      87.000000   \n",
      "max    749999.000000      79.000000     222.000000     132.000000   \n",
      "\n",
      "            Duration     Heart_Rate      Body_Temp       Calories  \n",
      "count  750000.000000  750000.000000  750000.000000  750000.000000  \n",
      "mean       15.421015      95.483995      40.036253      88.282781  \n",
      "std         8.354095       9.449845       0.779875      62.395349  \n",
      "min         1.000000      67.000000      37.100000       1.000000  \n",
      "25%         8.000000      88.000000      39.600000      34.000000  \n",
      "50%        15.000000      95.000000      40.300000      77.000000  \n",
      "75%        23.000000     103.000000      40.700000     136.000000  \n",
      "max        30.000000     128.000000      41.500000     314.000000  \n"
     ]
    }
   ],
   "source": [
    "# Exploración básica del train\n",
    "\n",
    "print(\"\\n--- INFO TRAIN ---\")\n",
    "print(train_df.info())  \n",
    "print(\"\\nValores faltantes:\\n\", train_df.isna().sum())\n",
    "print(\"\\nEstadísticas:\\n\", train_df.describe())"
   ]
  },
  {
   "cell_type": "code",
   "execution_count": 20,
   "id": "ff5fca02",
   "metadata": {},
   "outputs": [],
   "source": [
    "# Preprocesamiento\n",
    "def preparar_datos(df):\n",
    "    data = df.copy()\n",
    "    # Codificar Sex (0 = Female, 1 = Male)\n",
    "    if \"Sex\" in data.columns:\n",
    "        data[\"Sex\"] = data[\"Sex\"].astype(str).str.lower().map(\n",
    "            {\"female\": 0, \"male\": 1, \"f\": 0, \"m\": 1}\n",
    "        )\n",
    "    return data\n",
    "\n",
    "train_df = preparar_datos(train_df)\n",
    "test_df  = preparar_datos(test_df)\n",
    "\n",
    "# Features y target\n",
    "X_cols = [\"Sex\", \"Age\", \"Height\", \"Weight\", \"Duration\", \"Heart_Rate\", \"Body_Temp\"]\n",
    "\n",
    "X = train_df[X_cols]\n",
    "y = train_df[\"Calories\"]"
   ]
  },
  {
   "cell_type": "code",
   "execution_count": 21,
   "id": "f9337356",
   "metadata": {},
   "outputs": [],
   "source": [
    "#División interna para evaluar\n",
    "X_train, X_val, y_train, y_val = train_test_split(\n",
    "    X, y, test_size=0.2, random_state=42\n",
    ")\n",
    "\n",
    "# Escalado + imputación\n",
    "num_preprocess = make_pipeline(SimpleImputer(strategy=\"median\"), StandardScaler())\n",
    "X_train_proc = num_preprocess.fit_transform(X_train)\n",
    "X_val_proc   = num_preprocess.transform(X_val)"
   ]
  },
  {
   "cell_type": "code",
   "execution_count": 22,
   "id": "dd4e7337",
   "metadata": {},
   "outputs": [
    {
     "name": "stdout",
     "output_type": "stream",
     "text": [
      "Entrenando Regresión Lineal...\n"
     ]
    },
    {
     "name": "stderr",
     "output_type": "stream",
     "text": [
      "C:\\Users\\Lenovo\\AppData\\Local\\Packages\\PythonSoftwareFoundation.Python.3.12_qbz5n2kfra8p0\\LocalCache\\local-packages\\Python312\\site-packages\\sklearn\\metrics\\_regression.py:492: FutureWarning: 'squared' is deprecated in version 1.4 and will be removed in 1.6. To calculate the root mean squared error, use the function'root_mean_squared_error'.\n",
      "  warnings.warn(\n"
     ]
    },
    {
     "name": "stdout",
     "output_type": "stream",
     "text": [
      "Entrenando Random Forest...\n"
     ]
    },
    {
     "name": "stderr",
     "output_type": "stream",
     "text": [
      "C:\\Users\\Lenovo\\AppData\\Local\\Packages\\PythonSoftwareFoundation.Python.3.12_qbz5n2kfra8p0\\LocalCache\\local-packages\\Python312\\site-packages\\sklearn\\metrics\\_regression.py:492: FutureWarning: 'squared' is deprecated in version 1.4 and will be removed in 1.6. To calculate the root mean squared error, use the function'root_mean_squared_error'.\n",
      "  warnings.warn(\n"
     ]
    },
    {
     "name": "stdout",
     "output_type": "stream",
     "text": [
      "Entrenando Gradient Boosting...\n",
      "\n",
      "--- Resultados en validación interna ---\n",
      "              Modelo       MAE       RMSE        R2\n",
      "0   Regresión Lineal  8.082859  11.058772  0.968445\n",
      "1      Random Forest  2.309292   3.822297  0.996230\n",
      "2  Gradient Boosting  3.173100   4.751223  0.994175\n"
     ]
    },
    {
     "name": "stderr",
     "output_type": "stream",
     "text": [
      "C:\\Users\\Lenovo\\AppData\\Local\\Packages\\PythonSoftwareFoundation.Python.3.12_qbz5n2kfra8p0\\LocalCache\\local-packages\\Python312\\site-packages\\sklearn\\metrics\\_regression.py:492: FutureWarning: 'squared' is deprecated in version 1.4 and will be removed in 1.6. To calculate the root mean squared error, use the function'root_mean_squared_error'.\n",
      "  warnings.warn(\n"
     ]
    }
   ],
   "source": [
    "# Paso 4: Entrenar modelos \n",
    "\n",
    "modelos = {\n",
    "    \"Regresión Lineal\": LinearRegression(),\n",
    "    \"Random Forest\": RandomForestRegressor(\n",
    "        n_estimators=100,   # antes 300 → reducimos para que sea más rápido\n",
    "        random_state=42,\n",
    "        n_jobs=-1           # usar todos los núcleos disponibles\n",
    "    ),\n",
    "    \"Gradient Boosting\": GradientBoostingRegressor(\n",
    "        n_estimators=100,   # dejamos en 100 (por defecto) → suficiente para dataset pequeño\n",
    "        random_state=42\n",
    "    )\n",
    "}\n",
    "\n",
    "resultados = {}\n",
    "\n",
    "for nombre, modelo in modelos.items():\n",
    "    print(f\"Entrenando {nombre}...\")\n",
    "    modelo.fit(X_train_proc, y_train)\n",
    "    pred = modelo.predict(X_val_proc)\n",
    "    \n",
    "    mae = mean_absolute_error(y_val, pred)\n",
    "    rmse = mean_squared_error(y_val, pred, squared=False)\n",
    "    r2 = r2_score(y_val, pred)\n",
    "    \n",
    "    resultados[nombre] = {\n",
    "        \"modelo\": modelo,\n",
    "        \"MAE\": mae,\n",
    "        \"RMSE\": rmse,\n",
    "        \"R2\": r2,\n",
    "        \"pred\": pred\n",
    "    }\n",
    "\n",
    "# Mostrar métricas en DataFrame\n",
    "metricas_df = pd.DataFrame([\n",
    "    {\"Modelo\": nombre, \"MAE\": res[\"MAE\"], \"RMSE\": res[\"RMSE\"], \"R2\": res[\"R2\"]}\n",
    "    for nombre, res in resultados.items()\n",
    "])\n",
    "\n",
    "print(\"\\n--- Resultados en validación interna ---\")\n",
    "print(metricas_df)\n",
    "\n"
   ]
  },
  {
   "cell_type": "code",
   "execution_count": 23,
   "id": "9f28d592",
   "metadata": {},
   "outputs": [
    {
     "name": "stdout",
     "output_type": "stream",
     "text": [
      "\n",
      "--- Resultados en validación interna ---\n",
      "              Modelo       MAE       RMSE        R2\n",
      "0   Regresión Lineal  8.082859  11.058772  0.968445\n",
      "1      Random Forest  2.309292   3.822297  0.996230\n",
      "2  Gradient Boosting  3.173100   4.751223  0.994175\n"
     ]
    }
   ],
   "source": [
    "# Mostrar resultados\n",
    "metricas_df = pd.DataFrame([\n",
    "    {\"Modelo\": nombre, \"MAE\": res[\"MAE\"], \"RMSE\": res[\"RMSE\"], \"R2\": res[\"R2\"]}\n",
    "    for nombre, res in resultados.items()\n",
    "])\n",
    "\n",
    "print(\"\\n--- Resultados en validación interna ---\")\n",
    "print(metricas_df)\n",
    "\n"
   ]
  }
 ],
 "metadata": {
  "kernelspec": {
   "display_name": "Python 3",
   "language": "python",
   "name": "python3"
  },
  "language_info": {
   "codemirror_mode": {
    "name": "ipython",
    "version": 3
   },
   "file_extension": ".py",
   "mimetype": "text/x-python",
   "name": "python",
   "nbconvert_exporter": "python",
   "pygments_lexer": "ipython3",
   "version": "3.12.10"
  }
 },
 "nbformat": 4,
 "nbformat_minor": 5
}
